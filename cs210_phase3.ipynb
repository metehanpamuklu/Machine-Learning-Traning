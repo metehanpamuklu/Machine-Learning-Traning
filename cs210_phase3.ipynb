{
  "nbformat": 4,
  "nbformat_minor": 0,
  "metadata": {
    "colab": {
      "provenance": []
    },
    "kernelspec": {
      "name": "python3",
      "display_name": "Python 3"
    },
    "language_info": {
      "name": "python"
    }
  },
  "cells": [
    {
      "cell_type": "code",
      "execution_count": 323,
      "metadata": {
        "id": "k1Bmk5IYgxXh",
        "colab": {
          "base_uri": "https://localhost:8080/"
        },
        "outputId": "366b6df8-2c17-46b3-8647-612320b0cf78"
      },
      "outputs": [
        {
          "output_type": "stream",
          "name": "stdout",
          "text": [
            "Mounted at /content/drive\n"
          ]
        }
      ],
      "source": [
        "from google.colab import drive\n",
        "drive.mount(\"/content/drive\", force_remount=True)\n",
        "\n",
        "# to be used a prefix for all files\n",
        "path_prefix = \"/content/drive/My Drive/cs210\"\n"
      ]
    },
    {
      "cell_type": "code",
      "source": [
        "import numpy as np\n",
        "import pandas as pd\n",
        "from sklearn.datasets import load_iris\n",
        "from sklearn.model_selection import train_test_split\n",
        "from sklearn.tree import DecisionTreeClassifier\n",
        "from sklearn.svm import SVC\n",
        "from sklearn.metrics import accuracy_score, classification_report\n",
        "from sklearn.neighbors import KNeighborsRegressor\n",
        "from sklearn.metrics import mean_squared_error\n",
        "import pandas as pd\n",
        "from os.path import join\n",
        "import matplotlib.pyplot as plt\n",
        "import seaborn as sns\n",
        "%matplotlib inline"
      ],
      "metadata": {
        "id": "_0ZzrHGxvXqm"
      },
      "execution_count": 335,
      "outputs": []
    },
    {
      "cell_type": "code",
      "source": [
        "fname = \"StockMarket Dataset.csv\"\n",
        "f_name_2=\"programming language trend over time.csv\"\n",
        "data1 = pd.read_csv(join(path_prefix, fname))\n",
        "data2=pd.read_csv(join(path_prefix, f_name_2))\n"
      ],
      "metadata": {
        "id": "AJbwiIzZvgDQ"
      },
      "execution_count": 336,
      "outputs": []
    },
    {
      "cell_type": "markdown",
      "source": [
        "Related data connected"
      ],
      "metadata": {
        "id": "IxYR9FUMxLsj"
      }
    },
    {
      "cell_type": "code",
      "source": [
        "data1 = data1[[\"Date\", \"Microsoft_Price\", \"Gold_Price\"]]\n",
        "\n",
        "# Convert 'Date' column to datetime format\n",
        "data1.loc[:, 'Date'] = pd.to_datetime(data1['Date'], format='%d-%m-%Y')\n",
        "\n",
        "# Set 'Date' column as the index\n",
        "data1.set_index('Date', inplace=True)"
      ],
      "metadata": {
        "id": "dkfdoQdQj8kq"
      },
      "execution_count": 337,
      "outputs": []
    },
    {
      "cell_type": "code",
      "source": [
        "data2.rename(columns={'Week': 'Date'}, inplace=True)\n",
        "# Convert 'Date' column to datetime\n",
        "data2['Date'] = pd.to_datetime(data2['Date'], errors='coerce')"
      ],
      "metadata": {
        "id": "RJ2ZWmCtm6A-"
      },
      "execution_count": 338,
      "outputs": []
    },
    {
      "cell_type": "code",
      "source": [
        "data1= data1.sort_values(by='Date')\n",
        "data2= data2.sort_values(by='Date')"
      ],
      "metadata": {
        "id": "InELNWV-qFE9"
      },
      "execution_count": 339,
      "outputs": []
    },
    {
      "cell_type": "code",
      "source": [
        "from sklearn.preprocessing import MinMaxScaler\n",
        "scaler = MinMaxScaler()\n",
        "total_python_per_month = data2.groupby('Date')['Python'].sum().reset_index()\n",
        "total_python_per_month['Python'] = scaler.fit_transform(total_python_per_month[['Python']])\n",
        "data1.reset_index(inplace=True)\n"
      ],
      "metadata": {
        "id": "BrLjVPfmsv40"
      },
      "execution_count": 340,
      "outputs": []
    },
    {
      "cell_type": "code",
      "source": [
        "import pandas as pd\n",
        "\n",
        "# Assuming 'Date' column is not already in datetime format\n",
        "data1['Date'] = pd.to_datetime(data1['Date'])\n",
        "\n",
        "# Set 'Date' column as the index of the DataFrame\n",
        "data1.set_index('Date', inplace=True)\n",
        "data1.reset_index(inplace=True)"
      ],
      "metadata": {
        "colab": {
          "base_uri": "https://localhost:8080/",
          "height": 424
        },
        "id": "jT0FRGAHKmCh",
        "outputId": "30edf1f7-daf6-433f-a9ed-609d98791162"
      },
      "execution_count": 342,
      "outputs": [
        {
          "output_type": "execute_result",
          "data": {
            "text/plain": [
              "           Date  Microsoft_Price Gold_Price\n",
              "0    2019-02-04           105.74   1,319.30\n",
              "1    2019-02-05           107.22   1,319.20\n",
              "2    2019-02-06           106.03   1,314.40\n",
              "3    2019-02-07           105.27   1,314.20\n",
              "4    2019-02-08           105.67   1,318.50\n",
              "...         ...              ...        ...\n",
              "1238 2024-01-29           409.72   2,034.90\n",
              "1239 2024-01-30           408.59   2,050.90\n",
              "1240 2024-01-31           397.58   2,067.40\n",
              "1241 2024-02-01           403.78   2,071.10\n",
              "1242 2024-02-02           411.22   2,053.70\n",
              "\n",
              "[1243 rows x 3 columns]"
            ],
            "text/html": [
              "\n",
              "  <div id=\"df-4ad9a2d6-7e79-4063-b6a8-6494ef8c05fc\" class=\"colab-df-container\">\n",
              "    <div>\n",
              "<style scoped>\n",
              "    .dataframe tbody tr th:only-of-type {\n",
              "        vertical-align: middle;\n",
              "    }\n",
              "\n",
              "    .dataframe tbody tr th {\n",
              "        vertical-align: top;\n",
              "    }\n",
              "\n",
              "    .dataframe thead th {\n",
              "        text-align: right;\n",
              "    }\n",
              "</style>\n",
              "<table border=\"1\" class=\"dataframe\">\n",
              "  <thead>\n",
              "    <tr style=\"text-align: right;\">\n",
              "      <th></th>\n",
              "      <th>Date</th>\n",
              "      <th>Microsoft_Price</th>\n",
              "      <th>Gold_Price</th>\n",
              "    </tr>\n",
              "  </thead>\n",
              "  <tbody>\n",
              "    <tr>\n",
              "      <th>0</th>\n",
              "      <td>2019-02-04</td>\n",
              "      <td>105.74</td>\n",
              "      <td>1,319.30</td>\n",
              "    </tr>\n",
              "    <tr>\n",
              "      <th>1</th>\n",
              "      <td>2019-02-05</td>\n",
              "      <td>107.22</td>\n",
              "      <td>1,319.20</td>\n",
              "    </tr>\n",
              "    <tr>\n",
              "      <th>2</th>\n",
              "      <td>2019-02-06</td>\n",
              "      <td>106.03</td>\n",
              "      <td>1,314.40</td>\n",
              "    </tr>\n",
              "    <tr>\n",
              "      <th>3</th>\n",
              "      <td>2019-02-07</td>\n",
              "      <td>105.27</td>\n",
              "      <td>1,314.20</td>\n",
              "    </tr>\n",
              "    <tr>\n",
              "      <th>4</th>\n",
              "      <td>2019-02-08</td>\n",
              "      <td>105.67</td>\n",
              "      <td>1,318.50</td>\n",
              "    </tr>\n",
              "    <tr>\n",
              "      <th>...</th>\n",
              "      <td>...</td>\n",
              "      <td>...</td>\n",
              "      <td>...</td>\n",
              "    </tr>\n",
              "    <tr>\n",
              "      <th>1238</th>\n",
              "      <td>2024-01-29</td>\n",
              "      <td>409.72</td>\n",
              "      <td>2,034.90</td>\n",
              "    </tr>\n",
              "    <tr>\n",
              "      <th>1239</th>\n",
              "      <td>2024-01-30</td>\n",
              "      <td>408.59</td>\n",
              "      <td>2,050.90</td>\n",
              "    </tr>\n",
              "    <tr>\n",
              "      <th>1240</th>\n",
              "      <td>2024-01-31</td>\n",
              "      <td>397.58</td>\n",
              "      <td>2,067.40</td>\n",
              "    </tr>\n",
              "    <tr>\n",
              "      <th>1241</th>\n",
              "      <td>2024-02-01</td>\n",
              "      <td>403.78</td>\n",
              "      <td>2,071.10</td>\n",
              "    </tr>\n",
              "    <tr>\n",
              "      <th>1242</th>\n",
              "      <td>2024-02-02</td>\n",
              "      <td>411.22</td>\n",
              "      <td>2,053.70</td>\n",
              "    </tr>\n",
              "  </tbody>\n",
              "</table>\n",
              "<p>1243 rows × 3 columns</p>\n",
              "</div>\n",
              "    <div class=\"colab-df-buttons\">\n",
              "\n",
              "  <div class=\"colab-df-container\">\n",
              "    <button class=\"colab-df-convert\" onclick=\"convertToInteractive('df-4ad9a2d6-7e79-4063-b6a8-6494ef8c05fc')\"\n",
              "            title=\"Convert this dataframe to an interactive table.\"\n",
              "            style=\"display:none;\">\n",
              "\n",
              "  <svg xmlns=\"http://www.w3.org/2000/svg\" height=\"24px\" viewBox=\"0 -960 960 960\">\n",
              "    <path d=\"M120-120v-720h720v720H120Zm60-500h600v-160H180v160Zm220 220h160v-160H400v160Zm0 220h160v-160H400v160ZM180-400h160v-160H180v160Zm440 0h160v-160H620v160ZM180-180h160v-160H180v160Zm440 0h160v-160H620v160Z\"/>\n",
              "  </svg>\n",
              "    </button>\n",
              "\n",
              "  <style>\n",
              "    .colab-df-container {\n",
              "      display:flex;\n",
              "      gap: 12px;\n",
              "    }\n",
              "\n",
              "    .colab-df-convert {\n",
              "      background-color: #E8F0FE;\n",
              "      border: none;\n",
              "      border-radius: 50%;\n",
              "      cursor: pointer;\n",
              "      display: none;\n",
              "      fill: #1967D2;\n",
              "      height: 32px;\n",
              "      padding: 0 0 0 0;\n",
              "      width: 32px;\n",
              "    }\n",
              "\n",
              "    .colab-df-convert:hover {\n",
              "      background-color: #E2EBFA;\n",
              "      box-shadow: 0px 1px 2px rgba(60, 64, 67, 0.3), 0px 1px 3px 1px rgba(60, 64, 67, 0.15);\n",
              "      fill: #174EA6;\n",
              "    }\n",
              "\n",
              "    .colab-df-buttons div {\n",
              "      margin-bottom: 4px;\n",
              "    }\n",
              "\n",
              "    [theme=dark] .colab-df-convert {\n",
              "      background-color: #3B4455;\n",
              "      fill: #D2E3FC;\n",
              "    }\n",
              "\n",
              "    [theme=dark] .colab-df-convert:hover {\n",
              "      background-color: #434B5C;\n",
              "      box-shadow: 0px 1px 3px 1px rgba(0, 0, 0, 0.15);\n",
              "      filter: drop-shadow(0px 1px 2px rgba(0, 0, 0, 0.3));\n",
              "      fill: #FFFFFF;\n",
              "    }\n",
              "  </style>\n",
              "\n",
              "    <script>\n",
              "      const buttonEl =\n",
              "        document.querySelector('#df-4ad9a2d6-7e79-4063-b6a8-6494ef8c05fc button.colab-df-convert');\n",
              "      buttonEl.style.display =\n",
              "        google.colab.kernel.accessAllowed ? 'block' : 'none';\n",
              "\n",
              "      async function convertToInteractive(key) {\n",
              "        const element = document.querySelector('#df-4ad9a2d6-7e79-4063-b6a8-6494ef8c05fc');\n",
              "        const dataTable =\n",
              "          await google.colab.kernel.invokeFunction('convertToInteractive',\n",
              "                                                    [key], {});\n",
              "        if (!dataTable) return;\n",
              "\n",
              "        const docLinkHtml = 'Like what you see? Visit the ' +\n",
              "          '<a target=\"_blank\" href=https://colab.research.google.com/notebooks/data_table.ipynb>data table notebook</a>'\n",
              "          + ' to learn more about interactive tables.';\n",
              "        element.innerHTML = '';\n",
              "        dataTable['output_type'] = 'display_data';\n",
              "        await google.colab.output.renderOutput(dataTable, element);\n",
              "        const docLink = document.createElement('div');\n",
              "        docLink.innerHTML = docLinkHtml;\n",
              "        element.appendChild(docLink);\n",
              "      }\n",
              "    </script>\n",
              "  </div>\n",
              "\n",
              "\n",
              "<div id=\"df-eeac235e-7b49-4f8f-9524-56b3f9508f65\">\n",
              "  <button class=\"colab-df-quickchart\" onclick=\"quickchart('df-eeac235e-7b49-4f8f-9524-56b3f9508f65')\"\n",
              "            title=\"Suggest charts\"\n",
              "            style=\"display:none;\">\n",
              "\n",
              "<svg xmlns=\"http://www.w3.org/2000/svg\" height=\"24px\"viewBox=\"0 0 24 24\"\n",
              "     width=\"24px\">\n",
              "    <g>\n",
              "        <path d=\"M19 3H5c-1.1 0-2 .9-2 2v14c0 1.1.9 2 2 2h14c1.1 0 2-.9 2-2V5c0-1.1-.9-2-2-2zM9 17H7v-7h2v7zm4 0h-2V7h2v10zm4 0h-2v-4h2v4z\"/>\n",
              "    </g>\n",
              "</svg>\n",
              "  </button>\n",
              "\n",
              "<style>\n",
              "  .colab-df-quickchart {\n",
              "      --bg-color: #E8F0FE;\n",
              "      --fill-color: #1967D2;\n",
              "      --hover-bg-color: #E2EBFA;\n",
              "      --hover-fill-color: #174EA6;\n",
              "      --disabled-fill-color: #AAA;\n",
              "      --disabled-bg-color: #DDD;\n",
              "  }\n",
              "\n",
              "  [theme=dark] .colab-df-quickchart {\n",
              "      --bg-color: #3B4455;\n",
              "      --fill-color: #D2E3FC;\n",
              "      --hover-bg-color: #434B5C;\n",
              "      --hover-fill-color: #FFFFFF;\n",
              "      --disabled-bg-color: #3B4455;\n",
              "      --disabled-fill-color: #666;\n",
              "  }\n",
              "\n",
              "  .colab-df-quickchart {\n",
              "    background-color: var(--bg-color);\n",
              "    border: none;\n",
              "    border-radius: 50%;\n",
              "    cursor: pointer;\n",
              "    display: none;\n",
              "    fill: var(--fill-color);\n",
              "    height: 32px;\n",
              "    padding: 0;\n",
              "    width: 32px;\n",
              "  }\n",
              "\n",
              "  .colab-df-quickchart:hover {\n",
              "    background-color: var(--hover-bg-color);\n",
              "    box-shadow: 0 1px 2px rgba(60, 64, 67, 0.3), 0 1px 3px 1px rgba(60, 64, 67, 0.15);\n",
              "    fill: var(--button-hover-fill-color);\n",
              "  }\n",
              "\n",
              "  .colab-df-quickchart-complete:disabled,\n",
              "  .colab-df-quickchart-complete:disabled:hover {\n",
              "    background-color: var(--disabled-bg-color);\n",
              "    fill: var(--disabled-fill-color);\n",
              "    box-shadow: none;\n",
              "  }\n",
              "\n",
              "  .colab-df-spinner {\n",
              "    border: 2px solid var(--fill-color);\n",
              "    border-color: transparent;\n",
              "    border-bottom-color: var(--fill-color);\n",
              "    animation:\n",
              "      spin 1s steps(1) infinite;\n",
              "  }\n",
              "\n",
              "  @keyframes spin {\n",
              "    0% {\n",
              "      border-color: transparent;\n",
              "      border-bottom-color: var(--fill-color);\n",
              "      border-left-color: var(--fill-color);\n",
              "    }\n",
              "    20% {\n",
              "      border-color: transparent;\n",
              "      border-left-color: var(--fill-color);\n",
              "      border-top-color: var(--fill-color);\n",
              "    }\n",
              "    30% {\n",
              "      border-color: transparent;\n",
              "      border-left-color: var(--fill-color);\n",
              "      border-top-color: var(--fill-color);\n",
              "      border-right-color: var(--fill-color);\n",
              "    }\n",
              "    40% {\n",
              "      border-color: transparent;\n",
              "      border-right-color: var(--fill-color);\n",
              "      border-top-color: var(--fill-color);\n",
              "    }\n",
              "    60% {\n",
              "      border-color: transparent;\n",
              "      border-right-color: var(--fill-color);\n",
              "    }\n",
              "    80% {\n",
              "      border-color: transparent;\n",
              "      border-right-color: var(--fill-color);\n",
              "      border-bottom-color: var(--fill-color);\n",
              "    }\n",
              "    90% {\n",
              "      border-color: transparent;\n",
              "      border-bottom-color: var(--fill-color);\n",
              "    }\n",
              "  }\n",
              "</style>\n",
              "\n",
              "  <script>\n",
              "    async function quickchart(key) {\n",
              "      const quickchartButtonEl =\n",
              "        document.querySelector('#' + key + ' button');\n",
              "      quickchartButtonEl.disabled = true;  // To prevent multiple clicks.\n",
              "      quickchartButtonEl.classList.add('colab-df-spinner');\n",
              "      try {\n",
              "        const charts = await google.colab.kernel.invokeFunction(\n",
              "            'suggestCharts', [key], {});\n",
              "      } catch (error) {\n",
              "        console.error('Error during call to suggestCharts:', error);\n",
              "      }\n",
              "      quickchartButtonEl.classList.remove('colab-df-spinner');\n",
              "      quickchartButtonEl.classList.add('colab-df-quickchart-complete');\n",
              "    }\n",
              "    (() => {\n",
              "      let quickchartButtonEl =\n",
              "        document.querySelector('#df-eeac235e-7b49-4f8f-9524-56b3f9508f65 button');\n",
              "      quickchartButtonEl.style.display =\n",
              "        google.colab.kernel.accessAllowed ? 'block' : 'none';\n",
              "    })();\n",
              "  </script>\n",
              "</div>\n",
              "    </div>\n",
              "  </div>\n"
            ],
            "application/vnd.google.colaboratory.intrinsic+json": {
              "type": "dataframe",
              "variable_name": "data1",
              "summary": "{\n  \"name\": \"data1\",\n  \"rows\": 1243,\n  \"fields\": [\n    {\n      \"column\": \"Date\",\n      \"properties\": {\n        \"dtype\": \"date\",\n        \"min\": \"2019-02-04 00:00:00\",\n        \"max\": \"2024-02-02 00:00:00\",\n        \"num_unique_values\": 1243,\n        \"samples\": [\n          \"2022-09-22 00:00:00\",\n          \"2023-02-21 00:00:00\",\n          \"2021-10-14 00:00:00\"\n        ],\n        \"semantic_type\": \"\",\n        \"description\": \"\"\n      }\n    },\n    {\n      \"column\": \"Microsoft_Price\",\n      \"properties\": {\n        \"dtype\": \"number\",\n        \"std\": 73.42983833816022,\n        \"min\": 105.25,\n        \"max\": 411.22,\n        \"num_unique_values\": 1209,\n        \"samples\": [\n          133.96,\n          216.55,\n          183.6\n        ],\n        \"semantic_type\": \"\",\n        \"description\": \"\"\n      }\n    },\n    {\n      \"column\": \"Gold_Price\",\n      \"properties\": {\n        \"dtype\": \"string\",\n        \"num_unique_values\": 1122,\n        \"samples\": [\n          \"1,978.70\",\n          \"1,677.30\",\n          \"1,415.40\"\n        ],\n        \"semantic_type\": \"\",\n        \"description\": \"\"\n      }\n    }\n  ]\n}"
            }
          },
          "metadata": {},
          "execution_count": 342
        }
      ]
    },
    {
      "cell_type": "code",
      "source": [
        "# Assuming 'Date' column is not already in datetime format\n",
        "data2['Date'] = pd.to_datetime(data2['Date'])\n",
        "\n",
        "# Set 'Date' column as the index of the DataFrame\n",
        "data2.set_index('Date', inplace=True)\n",
        "data2.reset_index(inplace=True)"
      ],
      "metadata": {
        "id": "zTx3nyYEPWlg"
      },
      "execution_count": 343,
      "outputs": []
    },
    {
      "cell_type": "code",
      "source": [
        "data1_subset = data1[['Date', 'Microsoft_Price']]\n",
        "data2_subset = data2[['Date', 'Python']]"
      ],
      "metadata": {
        "id": "IcZMKJ7qPeCo"
      },
      "execution_count": 357,
      "outputs": []
    },
    {
      "cell_type": "code",
      "source": [
        "# Merge the resampled DataFrames on the 'Date' column\n",
        "merged_monthly_data = pd.merge(data1_subset,data2_subset, on='Date', how='inner')\n",
        "\n",
        "# Display the merged data\n",
        "print(merged_monthly_data.head())"
      ],
      "metadata": {
        "colab": {
          "base_uri": "https://localhost:8080/"
        },
        "id": "iNW5Y-1LPwBW",
        "outputId": "7cb3da15-f49f-4d16-ddc7-2c987f556324"
      },
      "execution_count": 356,
      "outputs": [
        {
          "output_type": "stream",
          "name": "stdout",
          "text": [
            "Empty DataFrame\n",
            "Columns: [Date, Microsoft_Price, Month_x, Python, Month_y]\n",
            "Index: []\n"
          ]
        }
      ]
    },
    {
      "cell_type": "code",
      "source": [
        "import pandas as pd\n",
        "\n",
        "# Assuming you have monthly_oil_price and monthly_data2 DataFrames derived from data1_subset and data2_subset respectively\n",
        "\n",
        "# Extract year and month from 'Date' column for both DataFrames\n",
        "data1_subset['Year_Month'] = data1_subset['Date'].dt.to_period('M')\n",
        "data2_subset['Year_Month'] = data2_subset['Date'].dt.to_period('M')\n",
        "\n",
        "# Merge DataFrames based on 'Year_Month' column\n",
        "merged_data = pd.merge(data1_subset, data2_subset, on='Year_Month', how='inner')\n",
        "\n",
        "# Keep only the desired columns\n",
        "merged_data = merged_data[['Date_x', 'Microsoft_Price', 'Python']]\n",
        "\n",
        "# Drop duplicates based on 'Date_x'\n",
        "merged_data = merged_data.drop_duplicates(subset=['Date_x'])\n",
        "\n",
        "# Convert 'Date_x' to datetime\n",
        "merged_data['Date_x'] = pd.to_datetime(merged_data['Date_x'])\n",
        "\n",
        "# Group by year and month and apply a custom function to select five days from each month\n",
        "selected_dates = merged_data.groupby([merged_data['Date_x'].dt.year, merged_data['Date_x'].dt.month]).head(1)\n",
        "\n",
        "# Reset index to remove the multi-index\n",
        "selected_dates.reset_index(drop=True, inplace=True)\n",
        "\n",
        "# Display the selected dates\n",
        "print(selected_dates)\n"
      ],
      "metadata": {
        "colab": {
          "base_uri": "https://localhost:8080/"
        },
        "id": "hQzst_WOP9YA",
        "outputId": "73af1a95-8f6f-4df7-a1df-abf6c4a1e341"
      },
      "execution_count": 418,
      "outputs": [
        {
          "output_type": "stream",
          "name": "stdout",
          "text": [
            "       Date_x  Microsoft_Price  Python\n",
            "0  2019-04-01           119.02      55\n",
            "1  2019-05-01           127.88      56\n",
            "2  2019-06-03           119.84      54\n",
            "3  2019-07-01           135.68      60\n",
            "4  2019-08-01           138.06      57\n",
            "5  2019-09-03           136.04      62\n",
            "6  2019-10-01           137.07      64\n",
            "7  2019-11-01           143.72      64\n",
            "8  2019-12-02           149.55      63\n",
            "9  2020-01-02           160.62      57\n",
            "10 2020-02-03           174.38      62\n",
            "11 2020-03-02           172.79      67\n",
            "12 2020-04-01           152.11      65\n",
            "13 2020-05-01           174.57      66\n",
            "14 2020-06-01           182.83      62\n",
            "15 2020-07-01           204.70      63\n",
            "16 2020-08-03           216.54      60\n",
            "17 2020-09-01           227.27      68\n",
            "18 2020-10-01           212.46      61\n",
            "19 2020-11-02           202.33      47\n",
            "20 2020-12-01           216.21      54\n",
            "21 2021-01-04           217.69      44\n",
            "22 2021-02-01           239.65      51\n",
            "23 2021-03-01           236.94      55\n",
            "24 2021-04-01           242.35      55\n",
            "25 2021-05-03           251.86      51\n",
            "26 2021-06-02           247.30      52\n",
            "27 2021-07-01           271.60      51\n",
            "28 2021-08-02           284.82      51\n",
            "29 2021-09-01           301.83      53\n",
            "30 2021-10-01           289.10      61\n",
            "31 2021-11-01           329.37      63\n",
            "32 2021-12-01           330.08      63\n",
            "33 2022-01-03           334.75      69\n",
            "34 2022-02-01           308.76      86\n",
            "35 2022-03-01           294.95      93\n",
            "36 2022-04-01           309.42      97\n",
            "37 2022-05-02           284.47      89\n",
            "38 2022-06-01           272.42      79\n",
            "39 2022-07-01           259.58      82\n",
            "40 2022-08-01           278.01      75\n",
            "41 2022-09-01           260.40      80\n",
            "42 2022-10-03           240.74      85\n",
            "43 2022-11-01           228.17      95\n",
            "44 2022-12-01           254.69      89\n",
            "45 2023-01-03           239.58      73\n",
            "46 2023-02-01           252.75      92\n",
            "47 2023-03-01           246.27      87\n",
            "48 2023-04-03           287.23      83\n",
            "49 2023-05-01           305.56      74\n",
            "50 2023-06-01           332.58      70\n",
            "51 2023-07-03           337.99      71\n",
            "52 2023-08-01           336.34      72\n",
            "53 2023-09-01           328.66      78\n",
            "54 2023-10-02           321.80      82\n",
            "55 2023-11-01           346.07      77\n",
            "56 2023-12-01           374.51      79\n",
            "57 2024-01-02           370.87      74\n",
            "58 2024-02-01           403.78      87\n"
          ]
        }
      ]
    },
    {
      "cell_type": "code",
      "source": [
        "# Calculate the median oil price\n",
        "median_price = merged_data['Microsoft_Price'].median()\n",
        "\n",
        "# Define high and low price groups\n",
        "high_price_data = merged_data[merged_data['Microsoft_Price'] > median_price]['Python']\n",
        "low_price_data = merged_data[merged_data['Microsoft_Price'] <= median_price]['Python']\n"
      ],
      "metadata": {
        "id": "yGrVp-BuUKRm"
      },
      "execution_count": 419,
      "outputs": []
    },
    {
      "cell_type": "code",
      "source": [
        "from scipy.stats import ttest_ind\n",
        "\n",
        "# Perform the t-test\n",
        "t_stat, p_value = ttest_ind(high_price_data, low_price_data, equal_var=False)  # equal_var=False if variances might be unequal\n",
        "\n",
        "print(\"T-Statistic:\", t_stat)\n",
        "print(\"P-value:\", p_value)"
      ],
      "metadata": {
        "colab": {
          "base_uri": "https://localhost:8080/"
        },
        "id": "F_TQcHaZUf0n",
        "outputId": "b204062d-6302-45d7-e946-14918252d3ee"
      },
      "execution_count": 420,
      "outputs": [
        {
          "output_type": "stream",
          "name": "stdout",
          "text": [
            "T-Statistic: 15.502606118967792\n",
            "P-value: 2.102833708505945e-49\n"
          ]
        }
      ]
    },
    {
      "cell_type": "code",
      "source": [
        "import statsmodels.api as sm\n",
        "\n",
        "# Add a constant to the independent variable matrix (required for statsmodels)\n",
        "X = sm.add_constant(data1_subset['Microsoft_Price'])  # Independent variable (Microsoft price)\n",
        "Y = data2_subset['Python']                            # Dependent variable (Python)\n",
        "\n",
        "# Ensure that X and Y have the same number of observations\n",
        "if X.shape[0] != Y.shape[0]:\n",
        "    # If not, trim the longer DataFrame to match the length of the shorter one\n",
        "    min_length = min(X.shape[0], Y.shape[0])\n",
        "    X = X[:min_length]\n",
        "    Y = Y[:min_length]\n",
        "\n",
        "# Reset indices of X and Y to ensure alignment\n",
        "X.reset_index(drop=True, inplace=True)\n",
        "Y.reset_index(drop=True, inplace=True)\n",
        "\n",
        "# Fit the linear regression model\n",
        "model = sm.OLS(Y, X).fit()\n",
        "\n",
        "# Print model summary\n",
        "print(model.summary())\n"
      ],
      "metadata": {
        "colab": {
          "base_uri": "https://localhost:8080/"
        },
        "id": "8y-nJt-ZUlVI",
        "outputId": "f2f6f779-a01c-4354-ca86-f96c79f493e4"
      },
      "execution_count": 421,
      "outputs": [
        {
          "output_type": "stream",
          "name": "stdout",
          "text": [
            "                            OLS Regression Results                            \n",
            "==============================================================================\n",
            "Dep. Variable:                 Python   R-squared:                       0.254\n",
            "Model:                            OLS   Adj. R-squared:                  0.251\n",
            "Method:                 Least Squares   F-statistic:                     88.53\n",
            "Date:                Tue, 21 May 2024   Prob (F-statistic):           2.77e-18\n",
            "Time:                        18:18:33   Log-Likelihood:                -1025.7\n",
            "No. Observations:                 262   AIC:                             2055.\n",
            "Df Residuals:                     260   BIC:                             2062.\n",
            "Df Model:                           1                                         \n",
            "Covariance Type:            nonrobust                                         \n",
            "===================================================================================\n",
            "                      coef    std err          t      P>|t|      [0.025      0.975]\n",
            "-----------------------------------------------------------------------------------\n",
            "const              13.9581      5.895      2.368      0.019       2.351      25.565\n",
            "Microsoft_Price     0.4000      0.043      9.409      0.000       0.316       0.484\n",
            "==============================================================================\n",
            "Omnibus:                        3.027   Durbin-Watson:                   0.156\n",
            "Prob(Omnibus):                  0.220   Jarque-Bera (JB):                3.090\n",
            "Skew:                           0.241   Prob(JB):                        0.213\n",
            "Kurtosis:                       2.773   Cond. No.                     1.09e+03\n",
            "==============================================================================\n",
            "\n",
            "Notes:\n",
            "[1] Standard Errors assume that the covariance matrix of the errors is correctly specified.\n",
            "[2] The condition number is large, 1.09e+03. This might indicate that there are\n",
            "strong multicollinearity or other numerical problems.\n"
          ]
        }
      ]
    },
    {
      "cell_type": "code",
      "source": [
        "from sklearn.model_selection import train_test_split\n",
        "\n",
        "X = merged_data[['Microsoft_Price']]  # Features\n",
        "y = merged_data['Python']     # Target variable\n",
        "\n",
        "# Split the data into training and testing sets\n",
        "X_train, X_test, y_train, y_test = train_test_split(X, y, test_size=0.2, random_state=42)"
      ],
      "metadata": {
        "id": "lfdxs2KIRfl6"
      },
      "execution_count": 422,
      "outputs": []
    },
    {
      "cell_type": "code",
      "source": [
        "from sklearn.neighbors import KNeighborsRegressor\n",
        "from sklearn.metrics import mean_squared_error\n",
        "\n",
        "# Initialize and train the kNN model\n",
        "knn = KNeighborsRegressor(n_neighbors=5)\n",
        "knn.fit(X_train, y_train)\n",
        "\n",
        "# Predict on the test set\n",
        "knn_predictions = knn.predict(X_test)\n",
        "\n",
        "# Evaluate the model\n",
        "knn_mse = mean_squared_error(y_test, knn_predictions)\n",
        "print(f'kNN Mean Squared Error: {knn_mse}')\n"
      ],
      "metadata": {
        "colab": {
          "base_uri": "https://localhost:8080/"
        },
        "id": "8Tsj-woiRxoL",
        "outputId": "f864ced5-35ca-405d-b5f2-a7813e665584"
      },
      "execution_count": 423,
      "outputs": [
        {
          "output_type": "stream",
          "name": "stdout",
          "text": [
            "kNN Mean Squared Error: 148.1058921161826\n"
          ]
        }
      ]
    },
    {
      "cell_type": "code",
      "source": [
        "from sklearn.ensemble import RandomForestRegressor\n",
        "\n",
        "# Initialize and train the Random Forest model\n",
        "rf = RandomForestRegressor(n_estimators=100, random_state=42)\n",
        "rf.fit(X_train, y_train)\n",
        "\n",
        "# Predict on the test set\n",
        "rf_predictions = rf.predict(X_test)\n",
        "\n",
        "\n",
        "# Evaluate the model\n",
        "rf_mse = mean_squared_error(y_test, rf_predictions)\n",
        "print(f'Random Forest Mean Squared Error: {rf_mse}')"
      ],
      "metadata": {
        "colab": {
          "base_uri": "https://localhost:8080/"
        },
        "id": "UEmLMX9UTdt2",
        "outputId": "9e6547f2-b8ea-426a-9f89-75b73e120bc1"
      },
      "execution_count": 424,
      "outputs": [
        {
          "output_type": "stream",
          "name": "stdout",
          "text": [
            "Random Forest Mean Squared Error: 203.1789098846266\n"
          ]
        }
      ]
    },
    {
      "cell_type": "code",
      "source": [
        "from sklearn.ensemble import RandomForestRegressor\n",
        "\n",
        "# Initialize and train the Random Forest model\n",
        "rf = RandomForestRegressor(n_estimators=100)\n",
        "rf.fit(X_train, y_train)\n",
        "\n",
        "# Predict on the test set\n",
        "rf_predictions = rf.predict(X_test)\n",
        "\n",
        "# Evaluate the model\n",
        "rf_mse = mean_squared_error(y_test, rf_predictions)\n",
        "print(f'Random Forest Mean Squared Error: {rf_mse}')"
      ],
      "metadata": {
        "colab": {
          "base_uri": "https://localhost:8080/"
        },
        "id": "piWE7r9ATgTF",
        "outputId": "1ceb9c86-906e-478d-9c95-8058c02146fa"
      },
      "execution_count": 428,
      "outputs": [
        {
          "output_type": "stream",
          "name": "stdout",
          "text": [
            "Random Forest Mean Squared Error: 182.16355976150018\n"
          ]
        }
      ]
    },
    {
      "cell_type": "code",
      "source": [
        "from sklearn.model_selection import train_test_split\n",
        "from sklearn.neighbors import KNeighborsRegressor\n",
        "from sklearn.ensemble import RandomForestRegressor\n",
        "from sklearn.metrics import mean_squared_error\n",
        "\n",
        "# Split the data into training and testing sets\n",
        "X_train, X_test, y_train, y_test = train_test_split(X, y, test_size=0.2, random_state=80)\n",
        "\n",
        "# Initialize and train the kNN model\n",
        "knn = KNeighborsRegressor(n_neighbors=5)\n",
        "knn.fit(X_train, y_train)\n",
        "knn_predictions = knn.predict(X_test)\n",
        "knn_mse = mean_squared_error(y_test, knn_predictions)\n",
        "print(f'kNN Mean Squared Error: {knn_mse}')\n",
        "\n",
        "# Initialize and train the Random Forest model\n",
        "rf = RandomForestRegressor(n_estimators=100, random_state=42)\n",
        "rf.fit(X_train, y_train)\n",
        "rf_predictions = rf.predict(X_test)\n",
        "rf_mse = mean_squared_error(y_test, rf_predictions)\n",
        "print(f'Random Forest Mean Squared Error: {rf_mse}')\n",
        ""
      ],
      "metadata": {
        "colab": {
          "base_uri": "https://localhost:8080/"
        },
        "id": "XxKTYFxaW5kv",
        "outputId": "1a98b027-1eb4-4020-98d4-6881004b1cea"
      },
      "execution_count": 426,
      "outputs": [
        {
          "output_type": "stream",
          "name": "stdout",
          "text": [
            "kNN Mean Squared Error: 156.4516182572614\n",
            "Random Forest Mean Squared Error: 184.16476288022082\n"
          ]
        }
      ]
    }
  ]
}